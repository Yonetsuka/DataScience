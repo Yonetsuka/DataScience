{
  "nbformat": 4,
  "nbformat_minor": 0,
  "metadata": {
    "colab": {
      "provenance": []
    },
    "kernelspec": {
      "name": "python3",
      "display_name": "Python 3"
    },
    "language_info": {
      "name": "python"
    }
  },
  "cells": [
    {
      "cell_type": "code",
      "execution_count": 12,
      "metadata": {
        "id": "XsKnWypaZWwl"
      },
      "outputs": [],
      "source": [
        "import pandas as pd\n",
        "from sklearn.model_selection import train_test_split\n",
        "from sklearn.tree import DecisionTreeClassifier\n",
        "from sklearn.metrics import accuracy_score, classification_report"
      ]
    },
    {
      "cell_type": "code",
      "source": [
        "base = pd.read_csv('mobile.csv')"
      ],
      "metadata": {
        "id": "ueaFKeo4aWKR"
      },
      "execution_count": 2,
      "outputs": []
    },
    {
      "cell_type": "code",
      "source": [
        "#1 - Faça a dummificação nas variáveis categóricas.\n",
        "#2 - Separes as bases em variáveis independentes e dependentes.\n",
        "#3 - Crie a base de treino e de teste.\n",
        "#4 - Crie o classificador\n",
        "#5 - Avalie o classificador"
      ],
      "metadata": {
        "id": "rQT3fYaMaaIY"
      },
      "execution_count": null,
      "outputs": []
    },
    {
      "cell_type": "code",
      "source": [
        "# 1\n",
        "df = base\n",
        "df = pd.get_dummies(df, columns=['blue', 'wifi', 'touch_screen'], prefix=['blue', 'wifi', 'touch'])\n",
        "df.to_csv('Excel_modificado(1).csv', index=False)\n",
        "outro = pd.read_csv('Excel_modificado(1).csv')\n",
        "outro"
      ],
      "metadata": {
        "id": "LGWYB7GjacHI"
      },
      "execution_count": null,
      "outputs": []
    },
    {
      "cell_type": "code",
      "source": [
        "# 2\n",
        "df = pd.read_csv('Excel_modificado(1).csv')\n",
        "y = df['price_range']\n",
        "X = df.drop(columns=['price_range'])"
      ],
      "metadata": {
        "id": "vr6oj8D-j2aK"
      },
      "execution_count": null,
      "outputs": []
    },
    {
      "cell_type": "code",
      "source": [
        "# 3\n",
        "# Divisão dos dados em conjuntos de treino e teste\n",
        "X_treino, X_teste, y_treino, y_teste = train_test_split(X, y, test_size=0.2, random_state=42)\n",
        "\n",
        "# Criando o modelo de árvore de decisão\n",
        "modelo_arvore = DecisionTreeClassifier(random_state=42)\n",
        "\n",
        "# Treinando o modelo\n",
        "modelo_arvore.fit(X_treino, y_treino)\n",
        "\n",
        "# Fazendo previsões no conjunto de teste\n",
        "previsoes = modelo_arvore.predict(X_teste)\n",
        "\n",
        "# Avaliando a precisão do modelo\n",
        "acuracia = accuracy_score(y_teste, previsoes)\n",
        "print(f'Acurácia do modelo: {acuracia:.2f}')\n",
        "\n",
        "# Exibindo o relatório de classificação\n",
        "relatorio_classificacao = classification_report(y_teste, previsoes)\n",
        "print(relatorio_classificacao)\n"
      ],
      "metadata": {
        "colab": {
          "base_uri": "https://localhost:8080/"
        },
        "id": "BwO0_lvrka_q",
        "outputId": "baabcbe9-86b2-4aba-f924-e77d21a6a288"
      },
      "execution_count": 14,
      "outputs": [
        {
          "output_type": "stream",
          "name": "stdout",
          "text": [
            "Acurácia do modelo: 0.83\n",
            "              precision    recall  f1-score   support\n",
            "\n",
            "           0       0.92      0.86      0.89       105\n",
            "           1       0.74      0.82      0.78        91\n",
            "           2       0.78      0.71      0.74        92\n",
            "           3       0.86      0.91      0.89       112\n",
            "\n",
            "    accuracy                           0.83       400\n",
            "   macro avg       0.83      0.82      0.82       400\n",
            "weighted avg       0.83      0.83      0.83       400\n",
            "\n"
          ]
        }
      ]
    }
  ]
}