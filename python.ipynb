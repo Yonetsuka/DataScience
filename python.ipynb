{
 "cells": [
  {
   "cell_type": "code",
   "execution_count": 2,
   "metadata": {},
   "outputs": [
    {
     "name": "stdout",
     "output_type": "stream",
     "text": [
      "6\n"
     ]
    }
   ],
   "source": [
    "tripo = lambda x: x*3\n",
    "print(tripo(2))"
   ]
  },
  {
   "cell_type": "code",
   "execution_count": null,
   "metadata": {},
   "outputs": [],
   "source": [
    "nome_completo = lambda nome, sobrenome: f'Nome: {nome}\\nSobnrenome: {sobrenome}'\n",
    "print(nome_completo('isaac','newton'))"
   ]
  },
  {
   "cell_type": "code",
   "execution_count": null,
   "metadata": {},
   "outputs": [],
   "source": [
    "comeca_com_g = lambda x: True if x.startswith('g') else False\n",
    "\n",
    "print(comeca_com_g())"
   ]
  },
  {
   "cell_type": "code",
   "execution_count": null,
   "metadata": {},
   "outputs": [],
   "source": [
    "classificar_idade = lambda idade: 'criança' if idade < 13 else ('adolescente' if idade < 18 else 'adulto')"
   ]
  },
  {
   "cell_type": "code",
   "execution_count": 3,
   "metadata": {},
   "outputs": [
    {
     "data": {
      "text/plain": [
       "2.6"
      ]
     },
     "execution_count": 3,
     "metadata": {},
     "output_type": "execute_result"
    }
   ],
   "source": [
    "def media_ponderada(peso1,peso2):\n",
    "    return lambda x,y: (x*peso1 + y*peso2) / (peso1 + peso2);\n",
    "\n",
    "resultado = media_ponderada(4,6);\n",
    "\n",
    "result_media_ponderada = resultado(2,3)\n",
    "result_media_ponderada"
   ]
  }
 ],
 "metadata": {
  "kernelspec": {
   "display_name": "Python 3",
   "language": "python",
   "name": "python3"
  },
  "language_info": {
   "codemirror_mode": {
    "name": "ipython",
    "version": 3
   },
   "file_extension": ".py",
   "mimetype": "text/x-python",
   "name": "python",
   "nbconvert_exporter": "python",
   "pygments_lexer": "ipython3",
   "version": "3.11.4"
  },
  "orig_nbformat": 4
 },
 "nbformat": 4,
 "nbformat_minor": 2
}
