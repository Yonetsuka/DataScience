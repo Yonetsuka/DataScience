{
 "cells": [
  {
   "cell_type": "code",
   "execution_count": 6,
   "metadata": {},
   "outputs": [
    {
     "name": "stdout",
     "output_type": "stream",
     "text": [
      "[1, 2, 3]\n",
      "remover o elemento:\n",
      "Tamanho da lista: 2\n",
      "[2, 3]\n",
      "Tamanho da lista: 1\n",
      "[3]\n"
     ]
    }
   ],
   "source": [
    "# Estrutura de dados em fila\n",
    "\n",
    "lista_fila = []\n",
    "\n",
    "def fila(item):\n",
    "    \"\"\"Adiciona um item a fila\"\"\"\n",
    "    lista_fila.append(item)\n",
    "\n",
    "\n",
    "def altera_fila_():\n",
    "    \"\"\"Altera e remove os elementos\"\"\"\n",
    "\n",
    "    if len(lista_fila) > 0:\n",
    "        return lista_fila.pop(0)\n",
    "    else:\n",
    "        return None\n",
    "\n",
    "fila(1)\n",
    "fila(2)\n",
    "fila(3)\n",
    "\n",
    "print(lista_fila)\n",
    "print('remover o elemento:')\n",
    "\n",
    "altera_fila_()\n",
    "print(f'Tamanho da lista: {len(lista_fila)}')\n",
    "print(lista_fila)\n",
    "altera_fila_()\n",
    "print(f'Tamanho da lista: {len(lista_fila)}')\n",
    "print(lista_fila)"
   ]
  },
  {
   "cell_type": "code",
   "execution_count": 7,
   "metadata": {},
   "outputs": [
    {
     "name": "stdout",
     "output_type": "stream",
     "text": [
      "Lista: [43, 3, 2, 78, 4]\n"
     ]
    }
   ],
   "source": [
    "# Crie uma estrutura com input para o usuário inserir 5 valores dentro de uma lista chamada lista_fila usando append.\n",
    "\n",
    "lista = []\n",
    "\n",
    "for i in range(5):\n",
    "    numero = int(input(\"Digite um numero inteiro: \"))\n",
    "    lista.append(numero)\n",
    "\n",
    "print(f'Lista: {lista}')"
   ]
  },
  {
   "cell_type": "code",
   "execution_count": null,
   "metadata": {},
   "outputs": [],
   "source": [
    "\"\"\"Exercicios\n",
    "\n",
    "1-Crie uma condição para remover dois elementos da lista = [10,20,30,40,50]\n",
    "Obs: precisa remover o emento 10 a 20, pois são os primeiros da lista\n",
    "\n",
    "2-MOstre o tamanho da lista antes e depois da remoção\n",
    "\n",
    "3-Crie um programa para solicitar 10 elementos  não numéricos para o usuário\n",
    "exemplo: tipo de carro: cruze,palio,focus,ka,spin,hb20,fit,vreta,corsa,A3. Em seguida, crie uma estrutura para simular a saída dos quatro primeiros\n",
    "carros a entrar na fila de um pedágio, mostrando também a saída correta\"\"\""
   ]
  },
  {
   "cell_type": "code",
   "execution_count": 9,
   "metadata": {},
   "outputs": [
    {
     "name": "stdout",
     "output_type": "stream",
     "text": [
      "Tamanho da lista(antes): 5\n",
      "Tamanho da lista depois: 3\n"
     ]
    }
   ],
   "source": [
    "#1 e 2\n",
    "Lista_ex = [10,20,30,40,50]\n",
    "\n",
    "def remover():\n",
    "    return Lista_ex.pop(0)\n",
    "\n",
    "\n",
    "print(f'Tamanho da lista(antes): {len(Lista_ex)}')\n",
    "print(f'Lista antes:{Lista_ex}')\n",
    "if len(Lista_ex) > 0:\n",
    "    remover()\n",
    "    remover()\n",
    "print(f'Tamanho da lista depois: {len(Lista_ex)}')\n",
    "print(f'Lista depois:{Lista_ex}')"
   ]
  },
  {
   "cell_type": "code",
   "execution_count": 36,
   "metadata": {},
   "outputs": [
    {
     "name": "stdout",
     "output_type": "stream",
     "text": [
      "Ordem de chegada['a', 'b', 'c', 'd', 'e', 'f', 'g', 'h', 'i', 'j']\n",
      "Ordem de saída dos carros: \n",
      "Carro que saiu: ['b', 'c', 'd', 'e', 'f', 'g', 'h', 'i', 'j']\n",
      "Carro que saiu: ['c', 'd', 'e', 'f', 'g', 'h', 'i', 'j']\n",
      "Carro que saiu: ['d', 'e', 'f', 'g', 'h', 'i', 'j']\n",
      "Carro que saiu: ['e', 'f', 'g', 'h', 'i', 'j']\n",
      "Carro que saiu: ['f', 'g', 'h', 'i', 'j']\n"
     ]
    }
   ],
   "source": [
    "#3\n",
    "\n",
    "carros = []\n",
    "\n",
    "for i in range(10):\n",
    "    carro = input(\"Digite o tipo de carro que entro pro pedágio: \")\n",
    "    carros.append(carro)\n",
    "print(f'Ordem de chegada{carros}')\n",
    "\n",
    "print('Ordem de saída dos carros: ')\n",
    "\n",
    "contagem = 0\n",
    "\n",
    "for i in carros:\n",
    "    carros.pop(0)\n",
    "    print(f'Lista de carros: {carros}')"
   ]
  },
  {
   "cell_type": "code",
   "execution_count": null,
   "metadata": {},
   "outputs": [],
   "source": [
    "\"\"\"4 Crie um programa que solicite pacientes em um hospital utilizando a estrutura de dasdos em fila.\n",
    "Nesse exemplo, considere 5 pacientes. No entanto , crie uma estrutura para quebrar a estrutura first in first out , caso um paciente tenha tido\n",
    "\"\"\""
   ]
  }
 ],
 "metadata": {
  "kernelspec": {
   "display_name": "Python 3",
   "language": "python",
   "name": "python3"
  },
  "language_info": {
   "codemirror_mode": {
    "name": "ipython",
    "version": 3
   },
   "file_extension": ".py",
   "mimetype": "text/x-python",
   "name": "python",
   "nbconvert_exporter": "python",
   "pygments_lexer": "ipython3",
   "version": "3.11.4"
  },
  "orig_nbformat": 4
 },
 "nbformat": 4,
 "nbformat_minor": 2
}
