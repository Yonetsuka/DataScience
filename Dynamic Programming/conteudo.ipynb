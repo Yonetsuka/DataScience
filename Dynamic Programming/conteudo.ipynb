{
 "cells": [
  {
   "cell_type": "code",
   "execution_count": 3,
   "metadata": {},
   "outputs": [
    {
     "data": {
      "text/plain": [
       "{1, 2, 3, 4, 5, 6, 7, 8, 9, 10}"
      ]
     },
     "execution_count": 3,
     "metadata": {},
     "output_type": "execute_result"
    }
   ],
   "source": [
    "#ex1\n",
    "dicionario = {'a':1,'b':2,'c':3}\n",
    "\n",
    "valor = dicionario.get('a')\n",
    "valor"
   ]
  },
  {
   "cell_type": "code",
   "execution_count": 19,
   "metadata": {},
   "outputs": [
    {
     "name": "stdout",
     "output_type": "stream",
     "text": [
      "Contagem de elementos: \n",
      "a: 2\n",
      "b: 2\n",
      "c: 2\n"
     ]
    }
   ],
   "source": [
    "#ex2\n",
    "lista = ['a','b','c','b','c','a']\n",
    "contagem = {}\n",
    "\n",
    "for elemento in lista:\n",
    "    contagem[elemento] = contagem.get(elemento, 0) + 1\n",
    "    \n",
    "print(\"Contagem de elementos: \")\n",
    "\n",
    "for chave,valor in contagem.items():\n",
    "    print(f'{chave}: {valor}')\n",
    "\n",
    "#ex3 programa para contar as palavras\n",
    "lista = ['no failure','power failure','no failure','overstain failure','no failure','power failure',\n",
    "         'overstain failure','power failure']\n",
    "\n",
    "#ex4 crie um programa para busca de produtos com def e get\n",
    "produtos = {'001':'camiseta','002':'calça','003':'meia'}\n",
    "#ex5 crie função para calcular a média dos alunos. use def e items()\n",
    "notas_alunos = {'joão':{8,7,9},'maria':{6,8,7},'pedro':[8,6,7]}\n",
    "#ex6 crie um programa para juntar dicionários utilizando def , get e items\n",
    "dic1 = {'a':1,'b':2}\n",
    "dic2 = {'b':3,'c':4}"
   ]
  },
  {
   "cell_type": "code",
   "execution_count": 29,
   "metadata": {},
   "outputs": [
    {
     "name": "stdout",
     "output_type": "stream",
     "text": [
      "A contagem das palavras será: \n",
      "n: 5\n",
      "o: 8\n",
      " : 8\n",
      "f: 8\n",
      "a: 10\n",
      "i: 10\n",
      "l: 8\n",
      "u: 8\n",
      "r: 13\n",
      "e: 13\n",
      "p: 3\n",
      "w: 3\n",
      "v: 2\n",
      "s: 2\n",
      "t: 2\n"
     ]
    }
   ],
   "source": [
    "#3\n",
    "lista = ['no failure','power failure','no failure','overstain failure','no failure','power failure',\n",
    "         'overstain failure','power failure']\n",
    "def contagem_palavras(lista):\n",
    "    contagem = {}\n",
    "    for palavra in lista:\n",
    "        palavra.split(\" \")\n",
    "        for elemento in palavra:\n",
    "            contagem[elemento] = contagem.get(elemento,0) + 1\n",
    "    print('A contagem das palavras será: ')\n",
    "    for chave,valor in contagem.items():\n",
    "        print(f'{chave}: {valor}')\n",
    "contagem_palavras(lista)"
   ]
  },
  {
   "cell_type": "code",
   "execution_count": 22,
   "metadata": {},
   "outputs": [
    {
     "name": "stdout",
     "output_type": "stream",
     "text": [
      "produto encontrado\n"
     ]
    }
   ],
   "source": [
    "#4\n",
    "produtos = {'001':'camiseta','002':'calça','003':'meia'}\n",
    "def busca():\n",
    "    compra = input('Digite o produto que você quer:')\n",
    "    for chave,valor in produtos.items():\n",
    "        if valor == compra:\n",
    "            print('produto encontrado')\n",
    "            break\n",
    "        print('Produto não encontrado')\n",
    "\n",
    "busca()"
   ]
  },
  {
   "cell_type": "code",
   "execution_count": 30,
   "metadata": {},
   "outputs": [
    {
     "name": "stdout",
     "output_type": "stream",
     "text": [
      "{8.0: 8.0, 7.0: 7.0}\n"
     ]
    }
   ],
   "source": [
    "#ex5 crie função para calcular a média dos alunos. use def e items()\n",
    "notas_alunos = {'joão':{8,7,9},'maria':{6,8,7},'pedro':[8,6,7]}\n",
    "\n",
    "def calcula_media(notas_alunos):\n",
    "    medias = {}\n",
    "    for aluno,notas in notas_alunos.items():\n",
    "        media = sum(notas) / len(notas)\n",
    "        medias[media] = media\n",
    "    return medias\n",
    "\n",
    "print(calcula_media(notas_alunos))"
   ]
  },
  {
   "cell_type": "code",
   "execution_count": 31,
   "metadata": {},
   "outputs": [
    {
     "name": "stdout",
     "output_type": "stream",
     "text": [
      "{'a': 1, 'b': 5, 'c': 4}\n"
     ]
    }
   ],
   "source": [
    "#6\n",
    "def juntar_dic(dic1,dic2):\n",
    "    novo_dic = dic1.copy()\n",
    "    for chave, valor in dic2.items():\n",
    "        novo_dic[chave] = novo_dic.get(chave,0) + valor\n",
    "    return novo_dic\n",
    "\n",
    "dic1 = {'a':1,'b':2}\n",
    "dic2 = {'b':3,'c':4}\n",
    "\n",
    "print(juntar_dic(dic1,dic2))"
   ]
  },
  {
   "cell_type": "code",
   "execution_count": null,
   "metadata": {},
   "outputs": [],
   "source": [
    "#7 crie um programa para controle de estoque.deve aparecer as funções adicionar item, atualizar quantidade, verificar disponibilidade\n",
    "\n",
    "\"pregos\",100\n",
    "\"porcas\",50\n",
    "\"Pregos\"\n",
    "\n",
    "#8 crie um programa para monitoramento da produção criando tres funções:\n",
    "#adicionar produção, calcular media diaria e verificar producao abaixo do esperado\n",
    "#if quantidade < esperado: print (produção abaixo do esperado para o turno)\n",
    "\n",
    "#adicionar_producao(\"turn1\",500)\n",
    "#adicionar_producao(\"turn2\",600)\n",
    "#adicionar_producao(\"turn3\",450)\n",
    "#verificar_produto\n"
   ]
  }
 ],
 "metadata": {
  "kernelspec": {
   "display_name": "Python 3",
   "language": "python",
   "name": "python3"
  },
  "language_info": {
   "codemirror_mode": {
    "name": "ipython",
    "version": 3
   },
   "file_extension": ".py",
   "mimetype": "text/x-python",
   "name": "python",
   "nbconvert_exporter": "python",
   "pygments_lexer": "ipython3",
   "version": "3.11.4"
  },
  "orig_nbformat": 4
 },
 "nbformat": 4,
 "nbformat_minor": 2
}
